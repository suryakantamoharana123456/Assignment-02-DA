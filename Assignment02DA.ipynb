{
  "nbformat": 4,
  "nbformat_minor": 0,
  "metadata": {
    "colab": {
      "provenance": []
    },
    "kernelspec": {
      "name": "python3",
      "display_name": "Python 3"
    },
    "language_info": {
      "name": "python"
    }
  },
  "cells": [
    {
      "cell_type": "code",
      "execution_count": null,
      "metadata": {
        "id": "aYEDK3-TkpIb"
      },
      "outputs": [],
      "source": []
    },
    {
      "cell_type": "markdown",
      "source": [
        "1. What are data structures, and why are they important ?\n",
        "Ans: Data structures in Python are built-in or custom ways to organize, store, and manipulate data efficiently.The right data structure makes your code faster and use less memory. Example: Use a set for fast membership tests instead of a list.Built-in structures like dict or list handle complex data easily.Python’s strength comes largely from how easily you can manipulate data with built-in structures. Many Python libraries (Pandas, NumPy, etc.) build on efficient data structures.\n",
        "\n",
        "2. Explain the difference between mutable and immutable data types with examples.\n",
        "Ans: Mutable Data Types:\n",
        "Mutable data types are those whose values or internal state can be modified after they have been initialized. When you modify a mutable object, you are changing the object itself in memory, rather than creating a new object.\n",
        "Immutable Data Types:\n",
        "Immutable data types are those whose values cannot be changed after they are created. Any operation that appears to \"modify\" an immutable object actually results in the creation of a new object with the new value, while the original object remains unchanged in memory.\n",
        "\n",
        "3. What are the main differences between lists and tuples in Python ?\n",
        "Ans: Mutability: This is the most significant difference. Lists are mutable, meaning their elements can be changed (added, removed, or modified) after creation. Tuples are immutable, meaning their elements cannot be changed once the tuple is created.\n",
        "Syntax: Lists are defined using square brackets [], while tuples are defined using parentheses ().\n",
        "Lists are typically used for collections where the elements are expected to change frequently, such as a list of items in a shopping cart.\n",
        "Tuples are used for collections where the data is fixed and should not be modified, such as coordinates, database records, or function arguments that should remain constant.\n",
        "4. Describe how dictionaries store data.\n",
        "Ans: A dictionary is an unordered collection of key-value pairs.Python dictionaries are implemented using a data structure called a hash table.\n",
        "A hash table allows very fast lookup, insertion, and deletion — on average O(1) time complexity. Like lists, dictionaries are mutable(changeable) and indexed. With dictionaries, data is stored in a  key:value  format.\n",
        "\n",
        "5. Why might you use a set instead of a list in Python ?\n",
        "Ans: Sets automatically enforce uniqueness, meaning they cannot contain duplicate elements. If a collection of unique items is required, a set simplifies the process of ensuring distinctness without manual de-duplication.Sets are optimized for checking if an element exists within the collection (membership testing). This operation is significantly faster in sets compared to lists, especially for large datasets, due to their underlying hash-table implementation.Sets provide built-in methods for common mathematical set operations like union, intersection, difference, and symmetric difference. These operations are highly efficient and convenient for tasks involving comparisons between collections of items.Sets do not maintain any specific order of elements. If the order of items is not relevant to the application, the unordered nature of sets can be advantageous for certain algorithms or data structures.\n",
        "\n",
        "6. What is a string in Python, and how is it different from a list ?\n",
        "Ans: Strings in Python are sequences of characters enclosed in quotes ('' or “”). Lists are ordered collections of items enclosed in square brackets [].\n",
        "Strings are immutable, meaning they cannot be changed once created, while lists are mutable and can be modified as needed.Operations like concatenation (+) and repetition (*) work differently for strings and lists. Concatenating strings will merge them together, while concatenating lists will combine their elements.\n",
        "String methods like upper(), lower(), and replace() are tailored for text processing, while list methods like append(), remove(), and sort(), and copy() are specific to working with collections of items.Strings can be indexed and sliced to access individual characters or substrings, while lists can be accessed using indices to retrieve or modify elements.\n",
        "\n",
        "7. How do tuples ensure data integrity in Python ?\n",
        "Ans: Since elements within a tuple cannot be altered after creation, there's no risk of inadvertently modifying critical data. This is especially useful for storing constants, configuration settings, or data that should remain consistent throughout a program's execution.When passing data between different parts of a program, such as functions or modules, using tuples ensures that the original data remains unchanged. This prevents unintended side effects and maintains the integrity of the information being shared.Due to their immutability, tuples are \"hashable,\" meaning they can be used as keys in Python dictionaries. This allows for stable and reliable lookups, as the key's value won't change after it's been set.The fixed nature of tuples leads to more predictable program behavior, as the state of the data within a tuple is guaranteed to remain constant. This simplifies debugging and makes code easier to reason about.\n",
        "\n",
        "8. What is a hash table, and how does it relate to dictionaries in Python ?\n",
        "Ans: A hash table, also known as a hash map, is a data structure that stores key-value pairs. It uses a hash function to compute an index, or hash code, for each key, which then points to the location where the corresponding value is stored in an underlying array. This mechanism allows for very efficient average-case time complexity for operations like insertion, deletion, and retrieval (often approaching O(1)).In Python, dictionaries are the built-in implementation of hash tables. When you create a dictionary and add key-value pairs, Python internally uses a hash table to manage this data. The keys you provide to a dictionary are passed through a hash function, and the resulting hash values determine where the key-value pair is stored within the dictionary's internal structure. This is why dictionary keys must be \"hashable\" (immutable and have a consistent hash value), while values can be of any type.\n",
        "Therefore, the relationship is that Python's dict data type is a direct and highly optimized implementation of a hash table. You are using a hash table whenever you utilize a Python dictionary.\n",
        "\n",
        "9. Can lists contain different data types in Python ?\n",
        "Ans: Yes, lists in Python can contain elements of different data types. This is a key feature of Python lists, making them a very flexible and versatile data structure.\n",
        "For example, a single Python list can hold integers, strings, floats, booleans, and even other lists or complex data structures like dictionaries or tuples, all within the same list.\n",
        "\n",
        "10. Explain why strings are immutable in Python ?\n",
        "Ans: Immutability allows Python to perform certain optimizations. Since strings cannot change, Python can safely share references to identical string values in memory, reducing memory consumption. For example, if multiple variables hold the value \"hello\", they can all point to the same \"hello\" object in memory.In a multi-threaded environment, immutable objects are inherently thread-safe because their state cannot be modified by multiple threads concurrently, eliminating the need for complex locking mechanisms.Immutability makes strings suitable for use as keys in dictionaries and elements in sets. Hashing, which relies on an object's value remaining constant, works reliably with immutable strings. If strings were mutable, their hash values could change, leading to issues in data structures that depend on hashing.Immutability prevents unintended side effects. When a string is passed to a function, there is no risk of the function modifying the original string, ensuring predictable behavior and easier debugging.\n",
        "\n",
        "11. What advantages do dictionaries offer over lists for certain tasks ?\n",
        "Ans: Dictionary: Instant access using keys (O(1) time).\n",
        "List: Slower search because you may have to check every element (O(n) time).\n",
        "Dictionaries use descriptive keys (like names, IDs, etc.)\n",
        "Lists only use integer indexes (0, 1, 2...).\n",
        "Easy to update or add new key-value pairs.\n",
        "In lists, you often have to search or insert carefully.\n",
        "Even with very large datasets, dictionaries stay efficient.\n",
        "Lists slow down as size grows when searching or updating data.\n",
        "\n",
        "12. Describe a scenario where using a tuple would be preferable over a list ?\n",
        "Ans: Each coordinate pair (latitude, longitude) should never change after being set.You want to protect the data from accidental modification.Tuple is ideal here because it’s immutable.Use tuple when:\n",
        "The data should never change.\n",
        "You want safer, protected, fixed-length collections.\n",
        "You want to use them as dictionary keys or elements of a set.\n",
        "Use list when:\n",
        "You need to modify, append, remove elements.\n",
        "\n",
        "13. How do sets handle duplicate values in Python?\n",
        "Ans: Python sets are inherently designed to store only unique elements. This means that when you add elements to a set, any duplicate values are automatically discarded.\n",
        "If you attempt to add an element that already exists in the set, the set simply ignores the new addition. It does not raise an error, nor does it store multiple copies of the same value.When you create a set from an iterable (like a list or tuple) that contains duplicate values, the set constructor will automatically remove these duplicates, resulting in a set containing only unique elements.\n",
        "\n",
        "14.  How does the “in” keyword work differently for lists and dictionaries ?\n",
        "Ans: in checks whether a value exists in the list.It scans the list from start to end (linear search).Time complexity: O(n)in checks whether a key exists in the dictionary.It does NOT search the values unless you explicitly ask for it.Uses hash table lookup — very fast, O(1) on average.\n",
        "\n",
        "15. Can you modify the elements of a tuple? Explain why or why not ?\n",
        "Ans: No, you cannot directly modify the elements of a tuple in Python. Tuples are immutable, meaning their contents cannot be changed after creation. This immutability is a core characteristic of tuples. Immutability allows for more efficient memory management, as the size and content of a tuple are fixed at creation. It ensures that the data stored in a tuple remains consistent throughout the program's execution, preventing accidental modifications. Because tuples are immutable, they can be used as keys in dictionaries and elements in sets, which require hashable objects.\n",
        "\n",
        "16. What is a nested dictionary, and give an example of its use case ?\n",
        "Ans: A nested dictionary is a dictionary where at least one of the values is itself a dictionary. It's a way to represent hierarchical or structured data within a dictionary structure. This allows you to organize and access complex information efficiently.\n",
        "Example:\n",
        "students = {\n",
        "    \"Alice\": {\n",
        "        \"age\": 20,\n",
        "        \"major\": \"Computer Science\",\n",
        "        \"contact\": {\n",
        "            \"email\": \"alice@example.com\",\n",
        "            \"phone\": \"555-1234\"\n",
        "        }\n",
        "    },\n",
        "    \"Bob\": {\n",
        "        \"age\": 22,\n",
        "        \"major\": \"Engineering\",\n",
        "        \"contact\": {\n",
        "            \"email\": \"bob@example.com\",\n",
        "            \"phone\": \"555-5678\"\n",
        "        }\n",
        "    }\n",
        "}\n",
        "\n",
        "17. Describe the time complexity of accessing elements in a dictionary ?\n",
        "Ans:Accessing elements in a dictionary (also known as a hash map or associative array) typically has a time complexity of O(1) on average, which means it takes constant time regardless of the dictionary's size. This is because dictionaries use a hash table internally to store and retrieve data, and hash table lookups are generally very fast. Dictionaries use a hash table data structure to store key-value pairs. A hash function is used to map keys to specific locations (buckets) within the table. When you try to access a value using a key, the hash function is applied to the key, and this quickly determines which bucket the corresponding value is stored in. This lookup process takes a fixed amount of time, regardless of how many items are in the dictionary. While the average case is O(1), the worst-case scenario can be O(n) if the hash function generates many collisions (meaning multiple keys map to the same bucket). In this case, accessing an element might involve searching through a linked list or other data structure within the bucket, which would take linear time with respect to the number of collisions. However, good hash functions are designed to minimize collisions, so this worst-case behavior is rare in practice.\n",
        "\n",
        "18. In what situations are lists preferred over dictionaries ?\n",
        "Ans: Lists are naturally ordered (by position: index 0, 1, 2...).You don’t need meaningful keys, just the order matters.No need for key-value mapping.Lists support easy index-based access.Indexing makes sense when position matters.If you just need a collection of the same type of items:\n",
        "list of names\n",
        "list of numbers\n",
        "list of dates\n",
        "list of coordinates, etc.\n",
        "No need for keys — just a simple ordered group.Lists allow duplicate values.Dictionaries don't allow duplicate keys.Lists can be easily sorted directly.Sorting dictionaries is more complex (since they are key-based).For small datasets, list search (in) is fast enough.No need for hash-based fast lookup.\n",
        "\n",
        "19. Why are dictionaries considered unordered, and how does that affect data retrieval ?\n",
        "Ans: In Python versions before 3.6, dictionaries did not guarantee any order.\n",
        "You could insert key-value pairs in any order, but when you looped over the dictionary, the order of keys might be different every time.Dictionaries store keys and values in a hash table.Keys are hashed (converted into numbers) to decide where to store them.The storage location depends on the hash value, not on insertion order.This is why the order could appear random in older versions.Since Python 3.7, dictionaries preserve insertion order.But technically, they are still called \"unordered\" in some theoretical sense. Their primary design is for hash-based fast access, not ordering.The ordering guarantee is considered a language feature, not a requirement of the hash table itself. No problem — lookup by key is always fast (O(1)), order doesn’t matter.In older versions (pre-3.6): order during iteration could be random.In newer versions (3.7+): you get items back in insertion order.Some languages (like C++, Java HashMaps) may still treat dictionaries/maps as fully unordered.\n",
        "\n",
        "20. Explain the difference between a list and a dictionary in terms of data retrieval.\n",
        "Ans: In terms of data retrieval, lists are accessed by index, while dictionaries are accessed by key. This means that to retrieve a specific element from a list, you use its numerical position (starting from 0), whereas for a dictionary, you use the associated key to find the corresponding value.\n",
        "Here's a more detailed explanation:\n",
        "Lists:\n",
        "Lists are ordered sequences of elements, where each element has a specific position or index. Elements are accessed using their index, starting from 0 for the first element, 1 for the second, and so on. For example, to retrieve the 3rd element of a list, you would use the index 2.\n",
        "Dictionaries:\n",
        "Dictionaries are collections of key-value pairs, where each key must be unique.\n",
        "Elements (values) are accessed by their corresponding keys. Keys can be of various data types, not just integers like in lists. For example, to retrieve the value associated with the key \"name\", you would use the key \"name\"."
      ],
      "metadata": {
        "id": "9tSRb2gSmUf7"
      }
    },
    {
      "cell_type": "code",
      "source": [
        "# 1.Write a code to create a string with your name and print it.\n",
        "my_name = \"Suryakanta Moharana\"\n",
        "print(my_name)"
      ],
      "metadata": {
        "colab": {
          "base_uri": "https://localhost:8080/"
        },
        "id": "yDLeM_Q6aVkD",
        "outputId": "9c7b27dc-6c57-4797-f35f-da138e2d6ecc"
      },
      "execution_count": 2,
      "outputs": [
        {
          "output_type": "stream",
          "name": "stdout",
          "text": [
            "Suryakanta Moharana\n"
          ]
        }
      ]
    },
    {
      "cell_type": "code",
      "source": [
        "# 2. Write a code to find the length of the string \"Hello World\".\n",
        "\n",
        "my_string = \"Hello World\"\n",
        "length = len(my_string)\n",
        "print(\"Length of the string:\", length)"
      ],
      "metadata": {
        "colab": {
          "base_uri": "https://localhost:8080/"
        },
        "id": "Sxh2rylMbMdF",
        "outputId": "3a2b8b38-0249-46a5-b2b7-a48b725b4b9d"
      },
      "execution_count": 3,
      "outputs": [
        {
          "output_type": "stream",
          "name": "stdout",
          "text": [
            "Length of the string: 11\n"
          ]
        }
      ]
    },
    {
      "cell_type": "code",
      "source": [
        "# 3.Write a code to slice the first 3 characters from the string \"Python Programming\".\n",
        "\n",
        "my_string = \"Python Programming\"\n",
        "sliced_string = my_string[:3]\n",
        "print(\"First 3 characters:\", sliced_string)"
      ],
      "metadata": {
        "colab": {
          "base_uri": "https://localhost:8080/"
        },
        "id": "SatB_nBMbsvK",
        "outputId": "a6fb8f93-360e-49fc-d23e-621fa8891fec"
      },
      "execution_count": 4,
      "outputs": [
        {
          "output_type": "stream",
          "name": "stdout",
          "text": [
            "First 3 characters: Pyt\n"
          ]
        }
      ]
    },
    {
      "cell_type": "code",
      "source": [
        "# 4. Write a code to convert the string \"hello\" to uppercase.\n",
        "\n",
        "my_string = \"hello\"\n",
        "upper_string = my_string.upper()\n",
        "print(upper_string)"
      ],
      "metadata": {
        "colab": {
          "base_uri": "https://localhost:8080/"
        },
        "id": "4FOoFVSwcHHI",
        "outputId": "d934659f-a625-42d1-9079-abd4d584a60c"
      },
      "execution_count": 5,
      "outputs": [
        {
          "output_type": "stream",
          "name": "stdout",
          "text": [
            "HELLO\n"
          ]
        }
      ]
    },
    {
      "cell_type": "code",
      "source": [
        "# 5.  Write a code to replace the word \"apple\" with \"orange\" in the string \"I like apple\".\n",
        "\n",
        "my_string = \"I like apple\"\n",
        "new_string = my_string.replace(\"apple\", \"orange\")\n",
        "print(new_string)"
      ],
      "metadata": {
        "colab": {
          "base_uri": "https://localhost:8080/"
        },
        "id": "Ar9hY0IRccRP",
        "outputId": "40eac975-bc32-49e4-f6ce-f69e7480293b"
      },
      "execution_count": 6,
      "outputs": [
        {
          "output_type": "stream",
          "name": "stdout",
          "text": [
            "I like orange\n"
          ]
        }
      ]
    },
    {
      "cell_type": "code",
      "source": [
        "# 6. Write a code to create a list with numbers 1 to 5 and print it.\n",
        "\n",
        "my_list = [1, 2, 3, 4, 5]\n",
        "print(my_list)"
      ],
      "metadata": {
        "colab": {
          "base_uri": "https://localhost:8080/"
        },
        "id": "jiRlTjEScsGg",
        "outputId": "5eacf54c-514d-4958-c540-5f1d24b6bc26"
      },
      "execution_count": 7,
      "outputs": [
        {
          "output_type": "stream",
          "name": "stdout",
          "text": [
            "[1, 2, 3, 4, 5]\n"
          ]
        }
      ]
    },
    {
      "cell_type": "code",
      "source": [
        "# 7. Write a code to append the number 10 to the list [1, 2, 3, 4].\n",
        "\n",
        "my_list = [1, 2, 3, 4]\n",
        "my_list.append(10)\n",
        "print(my_list)"
      ],
      "metadata": {
        "colab": {
          "base_uri": "https://localhost:8080/"
        },
        "id": "Jk6NDZrTdFXd",
        "outputId": "a24baac4-c871-4f55-99bc-410b659edb27"
      },
      "execution_count": 8,
      "outputs": [
        {
          "output_type": "stream",
          "name": "stdout",
          "text": [
            "[1, 2, 3, 4, 10]\n"
          ]
        }
      ]
    },
    {
      "cell_type": "code",
      "source": [
        "# 8. Write a code to remove the number 3 from the list [1, 2, 3, 4, 5].\n",
        "\n",
        "my_list = [1, 2, 3, 4, 5]\n",
        "my_list.remove(3)\n",
        "print(my_list)"
      ],
      "metadata": {
        "colab": {
          "base_uri": "https://localhost:8080/"
        },
        "id": "6q2v6Th-dYu6",
        "outputId": "343d6757-81f5-41e2-fd72-864d438640df"
      },
      "execution_count": 9,
      "outputs": [
        {
          "output_type": "stream",
          "name": "stdout",
          "text": [
            "[1, 2, 4, 5]\n"
          ]
        }
      ]
    },
    {
      "cell_type": "code",
      "source": [
        "# 9. Write a code to access the second element in the list ['a', 'b', 'c', 'd'].\n",
        "\n",
        "my_list = ['a', 'b', 'c', 'd']\n",
        "second_element = my_list[1]\n",
        "print(second_element)"
      ],
      "metadata": {
        "colab": {
          "base_uri": "https://localhost:8080/"
        },
        "id": "MK0MiDKAdt0p",
        "outputId": "2da498fc-0761-4470-a00c-5c9937234785"
      },
      "execution_count": 10,
      "outputs": [
        {
          "output_type": "stream",
          "name": "stdout",
          "text": [
            "b\n"
          ]
        }
      ]
    },
    {
      "cell_type": "code",
      "source": [
        "# 10. Write a code to reverse the list [10, 20, 30, 40, 50].\n",
        "\n",
        "my_list = [10, 20, 30, 40, 50]\n",
        "my_list.reverse()\n",
        "print(my_list)"
      ],
      "metadata": {
        "colab": {
          "base_uri": "https://localhost:8080/"
        },
        "id": "T0mAP9rheRvD",
        "outputId": "a3716358-17ed-4fe9-c47f-c8cc0b765fa4"
      },
      "execution_count": 11,
      "outputs": [
        {
          "output_type": "stream",
          "name": "stdout",
          "text": [
            "[50, 40, 30, 20, 10]\n"
          ]
        }
      ]
    },
    {
      "cell_type": "code",
      "source": [
        "# 11.  Write a code to create a tuple with the elements 100, 200, 300 and print it.\n",
        "\n",
        "my_tuple = (100, 200, 300)\n",
        "print(my_tuple)"
      ],
      "metadata": {
        "colab": {
          "base_uri": "https://localhost:8080/"
        },
        "id": "mwruWMere5uX",
        "outputId": "45324aa4-609f-4d81-98cd-e2e9b2bdcdaa"
      },
      "execution_count": 12,
      "outputs": [
        {
          "output_type": "stream",
          "name": "stdout",
          "text": [
            "(100, 200, 300)\n"
          ]
        }
      ]
    },
    {
      "cell_type": "code",
      "source": [
        "# 12. Write a code to access the second-to-last element of the tuple ('red', 'green', 'blue', 'yellow').\n",
        "\n",
        "my_tuple = ('red', 'green', 'blue', 'yellow')\n",
        "second_to_last = my_tuple[-2]\n",
        "print(second_to_last)"
      ],
      "metadata": {
        "colab": {
          "base_uri": "https://localhost:8080/"
        },
        "id": "B5Gb9OTie59q",
        "outputId": "0c1afcaf-36ab-4fa1-de1f-009faa9e10a5"
      },
      "execution_count": 13,
      "outputs": [
        {
          "output_type": "stream",
          "name": "stdout",
          "text": [
            "blue\n"
          ]
        }
      ]
    },
    {
      "cell_type": "code",
      "source": [
        "# 13.Write a code to find the minimum number in the tuple (10, 20, 5, 15).\n",
        "\n",
        "my_tuple = (10, 20, 5, 15)\n",
        "min_value = min(my_tuple)\n",
        "print(\"Minimum number:\", min_value)"
      ],
      "metadata": {
        "colab": {
          "base_uri": "https://localhost:8080/"
        },
        "id": "XbMPnWXre7hZ",
        "outputId": "cf0235c0-c1a0-4e4a-96ea-ee23ef9b784e"
      },
      "execution_count": 14,
      "outputs": [
        {
          "output_type": "stream",
          "name": "stdout",
          "text": [
            "Minimum number: 5\n"
          ]
        }
      ]
    },
    {
      "cell_type": "code",
      "source": [
        "# 14.Write a code to find the index of the element \"cat\" in the tuple ('dog', 'cat', 'rabbit').\n",
        "\n",
        "my_tuple = ('dog', 'cat', 'rabbit')\n",
        "index_of_cat = my_tuple.index('cat')\n",
        "print(\"Index of 'cat':\", index_of_cat)"
      ],
      "metadata": {
        "colab": {
          "base_uri": "https://localhost:8080/"
        },
        "id": "y75GSKjre7pN",
        "outputId": "22b97727-6850-479c-da82-c5fe2282c348"
      },
      "execution_count": 15,
      "outputs": [
        {
          "output_type": "stream",
          "name": "stdout",
          "text": [
            "Index of 'cat': 1\n"
          ]
        }
      ]
    },
    {
      "cell_type": "code",
      "source": [
        "# 15.Write a code to create a tuple containing three different fruits and check if \"kiwi\" is in it.\n",
        "\n",
        "fruits = ('apple', 'banana', 'orange')\n",
        "if 'kiwi' in fruits:\n",
        "    print(\"Kiwi is in the tuple.\")\n",
        "else:\n",
        "    print(\"Kiwi is not in the tuple.\")"
      ],
      "metadata": {
        "colab": {
          "base_uri": "https://localhost:8080/"
        },
        "id": "HLbd4eP5e7z_",
        "outputId": "da63a092-b9e9-4540-a9ee-a09adbb389eb"
      },
      "execution_count": 16,
      "outputs": [
        {
          "output_type": "stream",
          "name": "stdout",
          "text": [
            "Kiwi is not in the tuple.\n"
          ]
        }
      ]
    },
    {
      "cell_type": "code",
      "source": [
        "# 16.Write a code to create a set with the elements 'a', 'b', 'c' and print it.\n",
        "\n",
        "my_set = {'a', 'b', 'c'}\n",
        "print(my_set)"
      ],
      "metadata": {
        "colab": {
          "base_uri": "https://localhost:8080/"
        },
        "id": "ExQXDcw3e78-",
        "outputId": "1bf6f7ea-1787-4382-8e4c-23e7b291f340"
      },
      "execution_count": 17,
      "outputs": [
        {
          "output_type": "stream",
          "name": "stdout",
          "text": [
            "{'b', 'c', 'a'}\n"
          ]
        }
      ]
    },
    {
      "cell_type": "code",
      "source": [
        "# 17.Write a code to clear all elements from the set {1, 2, 3, 4, 5}.\n",
        "\n",
        "my_set = {1, 2, 3, 4, 5}\n",
        "my_set.clear()\n",
        "print(my_set)"
      ],
      "metadata": {
        "colab": {
          "base_uri": "https://localhost:8080/"
        },
        "id": "n7JDSOu-e8G_",
        "outputId": "efb6604d-ae61-4c0f-d578-f9b91204b70c"
      },
      "execution_count": 18,
      "outputs": [
        {
          "output_type": "stream",
          "name": "stdout",
          "text": [
            "set()\n"
          ]
        }
      ]
    },
    {
      "cell_type": "code",
      "source": [
        "# 18. Write a code to remove the element 4 from the set {1, 2, 3, 4}.\n",
        "\n",
        "my_set = {1, 2, 3, 4}\n",
        "my_set.remove(4)\n",
        "print(my_set)"
      ],
      "metadata": {
        "colab": {
          "base_uri": "https://localhost:8080/"
        },
        "id": "3XFZC00Ue8P_",
        "outputId": "71c08d06-7f35-4eab-9910-24b679bc0f03"
      },
      "execution_count": 19,
      "outputs": [
        {
          "output_type": "stream",
          "name": "stdout",
          "text": [
            "{1, 2, 3}\n"
          ]
        }
      ]
    },
    {
      "cell_type": "code",
      "source": [
        "# 19.Write a code to find the union of two sets {1, 2, 3} and {3, 4, 5}.\n",
        "\n",
        "set1 = {1, 2, 3}\n",
        "set2 = {3, 4, 5}\n",
        "union_set = set1.union(set2)\n",
        "print(\"Union of the sets:\", union_set)"
      ],
      "metadata": {
        "colab": {
          "base_uri": "https://localhost:8080/"
        },
        "id": "15nWJvsye8ZT",
        "outputId": "f5a2848d-2547-487f-c5a9-008e3ace5655"
      },
      "execution_count": 20,
      "outputs": [
        {
          "output_type": "stream",
          "name": "stdout",
          "text": [
            "Union of the sets: {1, 2, 3, 4, 5}\n"
          ]
        }
      ]
    },
    {
      "cell_type": "code",
      "source": [
        "# 20.Write a code to find the intersection of two sets {1, 2, 3} and {2, 3, 4}.\n",
        "\n",
        "set1 = {1, 2, 3}\n",
        "set2 = {2, 3, 4}\n",
        "intersection_set = set1.intersection(set2)\n",
        "print(\"Intersection of the sets:\", intersection_set)"
      ],
      "metadata": {
        "colab": {
          "base_uri": "https://localhost:8080/"
        },
        "id": "03uxSn6ve8iU",
        "outputId": "458816da-fe5c-4615-b69e-3e8fe048f5bb"
      },
      "execution_count": 21,
      "outputs": [
        {
          "output_type": "stream",
          "name": "stdout",
          "text": [
            "Intersection of the sets: {2, 3}\n"
          ]
        }
      ]
    },
    {
      "cell_type": "code",
      "source": [
        "# 21.Write a code to create a dictionary with the keys \"name\", \"age\", and \"city\", and print it.\n",
        "\n",
        "my_dict = {\n",
        "    \"name\": \"John\",\n",
        "    \"age\": 25,\n",
        "    \"city\": \"New York\"\n",
        "}\n",
        "print(my_dict)"
      ],
      "metadata": {
        "colab": {
          "base_uri": "https://localhost:8080/"
        },
        "id": "B3SLzAbwe8rg",
        "outputId": "3b3d5910-b24d-4d79-e8d4-5cee0e63d9d3"
      },
      "execution_count": 22,
      "outputs": [
        {
          "output_type": "stream",
          "name": "stdout",
          "text": [
            "{'name': 'John', 'age': 25, 'city': 'New York'}\n"
          ]
        }
      ]
    },
    {
      "cell_type": "code",
      "source": [
        "# 22.Write a code to add a new key-value pair \"country\": \"USA\" to the dictionary {'name': 'John', 'age': 25}.\n",
        "\n",
        "my_dict = {'name': 'John', 'age': 25}\n",
        "my_dict['country'] = 'USA'\n",
        "print(my_dict)"
      ],
      "metadata": {
        "colab": {
          "base_uri": "https://localhost:8080/"
        },
        "id": "1Zf2aO2We8zh",
        "outputId": "aa577395-3152-4e8a-83ee-caaf0138ec67"
      },
      "execution_count": 23,
      "outputs": [
        {
          "output_type": "stream",
          "name": "stdout",
          "text": [
            "{'name': 'John', 'age': 25, 'country': 'USA'}\n"
          ]
        }
      ]
    },
    {
      "cell_type": "code",
      "source": [
        "# 23.Write a code to access the value associated with the key \"name\" in the dictionary {'name': 'Alice', 'age': 30}.\n",
        "\n",
        "my_dict = {'name': 'Alice', 'age': 30}\n",
        "name_value = my_dict['name']\n",
        "print(name_value)"
      ],
      "metadata": {
        "colab": {
          "base_uri": "https://localhost:8080/"
        },
        "id": "TWoovH2te88F",
        "outputId": "040a1813-6297-4207-9280-e439ed28a641"
      },
      "execution_count": 24,
      "outputs": [
        {
          "output_type": "stream",
          "name": "stdout",
          "text": [
            "Alice\n"
          ]
        }
      ]
    },
    {
      "cell_type": "code",
      "source": [
        "# 24.Write a code to remove the key \"age\" from the dictionary {'name': 'Bob', 'age': 22, 'city': 'New York'}.\n",
        "\n",
        "my_dict = {'name': 'Bob', 'age': 22, 'city': 'New York'}\n",
        "del my_dict['age']\n",
        "print(my_dict)"
      ],
      "metadata": {
        "colab": {
          "base_uri": "https://localhost:8080/"
        },
        "id": "JotR418ze9DZ",
        "outputId": "355339b1-540b-4065-d9c0-588c0f5c7674"
      },
      "execution_count": 25,
      "outputs": [
        {
          "output_type": "stream",
          "name": "stdout",
          "text": [
            "{'name': 'Bob', 'city': 'New York'}\n"
          ]
        }
      ]
    },
    {
      "cell_type": "code",
      "source": [
        "# 25.Write a code to check if the key \"city\" exists in the dictionary {'name': 'Alice', 'city': 'Paris'}.\n",
        "\n",
        "my_dict = {'name': 'Alice', 'city': 'Paris'}\n",
        "if 'city' in my_dict:\n",
        "    print(\"The key 'city' exists in the dictionary.\")\n",
        "else:\n",
        "    print(\"The key 'city' does not exist in the dictionary.\")"
      ],
      "metadata": {
        "colab": {
          "base_uri": "https://localhost:8080/"
        },
        "id": "fkLum037e9Mb",
        "outputId": "fb68dd12-88f8-4cd6-c432-6790208be4bd"
      },
      "execution_count": 26,
      "outputs": [
        {
          "output_type": "stream",
          "name": "stdout",
          "text": [
            "The key 'city' exists in the dictionary.\n"
          ]
        }
      ]
    },
    {
      "cell_type": "code",
      "source": [
        "# 26.Write a code to create a list, a tuple, and a dictionary, and print them all.\n",
        "\n",
        "my_list = [1, 2, 3, 4, 5]\n",
        "my_tuple = ('apple', 'banana', 'cherry')\n",
        "my_dict = {'name': 'John', 'age': 30, 'city': 'New York'}\n",
        "print(\"List:\", my_list)\n",
        "print(\"Tuple:\", my_tuple)\n",
        "print(\"Dictionary:\", my_dict)"
      ],
      "metadata": {
        "colab": {
          "base_uri": "https://localhost:8080/"
        },
        "id": "X2mwZisGe9VJ",
        "outputId": "ef08c94f-8bd2-4cf7-c212-b86239a96417"
      },
      "execution_count": 27,
      "outputs": [
        {
          "output_type": "stream",
          "name": "stdout",
          "text": [
            "List: [1, 2, 3, 4, 5]\n",
            "Tuple: ('apple', 'banana', 'cherry')\n",
            "Dictionary: {'name': 'John', 'age': 30, 'city': 'New York'}\n"
          ]
        }
      ]
    },
    {
      "cell_type": "code",
      "source": [
        "# 27.Write a code to create a list of 5 random numbers between 1 and 100, sort it in ascending order, and print the\n",
        "\n",
        "import random\n",
        "random_numbers = random.sample(range(1, 101), 5)\n",
        "random_numbers.sort()\n",
        "print(\"Sorted random numbers:\", random_numbers)"
      ],
      "metadata": {
        "colab": {
          "base_uri": "https://localhost:8080/"
        },
        "id": "l4khgV8Me9q-",
        "outputId": "24f287c4-fd0c-484a-a132-8ae5781dafb0"
      },
      "execution_count": 29,
      "outputs": [
        {
          "output_type": "stream",
          "name": "stdout",
          "text": [
            "Sorted random numbers: [8, 12, 31, 70, 81]\n"
          ]
        }
      ]
    },
    {
      "cell_type": "code",
      "source": [
        "# 28.Write a code to create a list with strings and print the element at the third index.\n",
        "\n",
        "my_list = ['apple', 'banana', 'cherry', 'date', 'elderberry']\n",
        "print(\"Element at index 3:\", my_list[3])"
      ],
      "metadata": {
        "colab": {
          "base_uri": "https://localhost:8080/"
        },
        "id": "ptNw_Amre91u",
        "outputId": "7a1aff22-d37b-4136-e42c-29f2d8c5e120"
      },
      "execution_count": 30,
      "outputs": [
        {
          "output_type": "stream",
          "name": "stdout",
          "text": [
            "Element at index 3: date\n"
          ]
        }
      ]
    },
    {
      "cell_type": "code",
      "source": [
        "# 29.Write a code to combine two dictionaries into one and print the result.\n",
        "\n",
        "dict1 = {'name': 'Alice', 'age': 25}\n",
        "dict2 = {'city': 'Paris', 'country': 'France'}\n",
        "combined_dict = dict1.copy()\n",
        "combined_dict.update(dict2)\n",
        "print(\"Combined dictionary:\", combined_dict)"
      ],
      "metadata": {
        "colab": {
          "base_uri": "https://localhost:8080/"
        },
        "id": "mkQpq29Je9-R",
        "outputId": "ba484459-13b8-40b1-8915-e1b5b31deb59"
      },
      "execution_count": 31,
      "outputs": [
        {
          "output_type": "stream",
          "name": "stdout",
          "text": [
            "Combined dictionary: {'name': 'Alice', 'age': 25, 'city': 'Paris', 'country': 'France'}\n"
          ]
        }
      ]
    },
    {
      "cell_type": "code",
      "source": [
        "# 30.Write a code to convert a list of strings into a set.\n",
        "\n",
        "my_list = ['apple', 'banana', 'cherry', 'apple', 'banana']\n",
        "my_set = set(my_list)\n",
        "print(\"Set:\", my_set)"
      ],
      "metadata": {
        "colab": {
          "base_uri": "https://localhost:8080/"
        },
        "id": "D29kh6sDe-If",
        "outputId": "5064fcd7-9eba-44dd-cfa7-83068a72ae57"
      },
      "execution_count": 32,
      "outputs": [
        {
          "output_type": "stream",
          "name": "stdout",
          "text": [
            "Set: {'banana', 'cherry', 'apple'}\n"
          ]
        }
      ]
    }
  ]
}